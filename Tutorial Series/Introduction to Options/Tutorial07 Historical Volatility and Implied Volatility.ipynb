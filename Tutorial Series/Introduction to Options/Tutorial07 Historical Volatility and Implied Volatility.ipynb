{
 "cells": [
  {
   "cell_type": "code",
   "execution_count": 131,
   "metadata": {},
   "outputs": [
    {
     "name": "stdout",
     "output_type": "stream",
     "text": [
      "Populating the interactive namespace from numpy and matplotlib\n"
     ]
    }
   ],
   "source": [
    "import pandas as pd\n",
    "from numpy import sqrt,mean,log,diff\n",
    "import quandl\n",
    "import scipy.stats as stats\n",
    "import matplotlib.pyplot as plt\n",
    "from pandas_datareader.data import Options\n",
    "import pandas_datareader.data as web\n",
    "import datetime\n",
    "%pylab inline "
   ]
  },
  {
   "cell_type": "code",
   "execution_count": 2,
   "metadata": {
    "collapsed": true
   },
   "outputs": [],
   "source": [
    "quandl.ApiConfig.api_key = 'NxTUTAQswbKs5ybBbwfK'"
   ]
  },
  {
   "cell_type": "code",
   "execution_count": 3,
   "metadata": {
    "collapsed": true
   },
   "outputs": [],
   "source": [
    "data = quandl.get('WIKI/GOOG')"
   ]
  },
  {
   "cell_type": "code",
   "execution_count": 4,
   "metadata": {},
   "outputs": [
    {
     "data": {
      "text/plain": [
       "0.21326449960467742"
      ]
     },
     "execution_count": 4,
     "metadata": {},
     "output_type": "execute_result"
    }
   ],
   "source": [
    "# use the daily data of Google(NASDAQ: GOOG) from 01/2016 to 08/2016 \n",
    "close = data['2016-01':'2016-08']['Adj. Close']\n",
    "r = diff(log(close))\n",
    "r_mean = mean(r)\n",
    "diff_square = [(r[i]-r_mean)**2 for i in range(0,len(r))]\n",
    "std = sqrt(sum(diff_square)*(1.0/(len(r)-1)))\n",
    "vol = std*sqrt(252)\n",
    "vol"
   ]
  },
  {
   "cell_type": "code",
   "execution_count": 132,
   "metadata": {
    "collapsed": true
   },
   "outputs": [],
   "source": [
    "def bsm_price(option_type, sigma, s, k, r, T, q):  \n",
    "    # calculate the bsm price of European call and put option\n",
    "    sigma = float(sigma)\n",
    "    d1 = (np.log(s / k) + (r - q + sigma ** 2 * 0.5) * T) / (sigma * np.sqrt(T))\n",
    "    d2 = d1 - sigma * np.sqrt(T)\n",
    "    if option_type == 'c':\n",
    "        price = np.exp(-r*T) * (s * np.exp((r - q)*T) * stats.norm.cdf(d1) - k *  stats.norm.cdf(d2))\n",
    "        return price\n",
    "    elif option_type == 'p':\n",
    "        price = np.exp(-r*T) * (k * stats.norm.cdf(-d2) - s * np.exp((r - q)*T) *  stats.norm.cdf(-d1))\n",
    "        return price\n",
    "    else:\n",
    "        print('No such option type %s') %option_type"
   ]
  },
  {
   "cell_type": "code",
   "execution_count": 146,
   "metadata": {
    "collapsed": true
   },
   "outputs": [],
   "source": [
    "def implied_vol(option_type, option_price, s, k, r, T, q):\n",
    "    # apply bisection method to get the implied volatility by solving the BSM function\n",
    "    precision = 0.00001\n",
    "    upper_vol = 500.0\n",
    "    max_vol = 500.0\n",
    "    min_vol = 0.000\n",
    "    lower_vol = 0.000\n",
    "    iteration = 0    \n",
    "\n",
    "    while 1:\n",
    "        iteration +=1 \n",
    "        mid_vol = (upper_vol + lower_vol)/2.0\n",
    "        price = bsm_price(option_type, mid_vol, s, k, r, T, q)\n",
    "        if option_type == 'c':\n",
    "\n",
    "            lower_price = bsm_price(option_type, lower_vol, s, k, r, T, q)\n",
    "            if (lower_price - option_price) * (price - option_price) > 0:\n",
    "                lower_vol = mid_vol \n",
    "            else:\n",
    "                upper_vol = mid_vol\n",
    "            if abs(price - option_price) < precision: break\n",
    "            if mid_vol > max_vol - 5 : \n",
    "                mid_vol = 0\n",
    "                break\n",
    "#             print(\"mid_vol=%f\" %mid_vol)\n",
    "#             print(\"upper_price=%f\" %lower_price)\n",
    "\n",
    "        elif option_type == 'p':\n",
    "            upper_price = bsm_price(option_type, upper_vol, s, k, r, T, q)\n",
    "\n",
    "            if (upper_price - option_price) * (price - option_price) > 0:\n",
    "                upper_vol = mid_vol \n",
    "            else:\n",
    "                lower_vol = mid_vol\n",
    "            \n",
    "#             print(\"mid_vol=%f\" %mid_vol)\n",
    "#             print(\"upper_price=%f\" %upper_price)            \n",
    "            if abs(price - option_price) < precision: break \n",
    "            if iteration > 100: break\n",
    "                \n",
    "    return mid_vol "
   ]
  },
  {
   "cell_type": "code",
   "execution_count": 197,
   "metadata": {
    "collapsed": true
   },
   "outputs": [],
   "source": [
    "# download option data for all expiry months from Yahoo Finance \n",
    "# provide a formatted DataFrame with a hierarchical index\n",
    "opt = Options('spy', 'yahoo')"
   ]
  },
  {
   "cell_type": "code",
   "execution_count": 198,
   "metadata": {},
   "outputs": [
    {
     "data": {
      "text/plain": [
       "[datetime.date(2017, 8, 11),\n",
       " datetime.date(2017, 8, 16),\n",
       " datetime.date(2017, 8, 18),\n",
       " datetime.date(2017, 8, 23),\n",
       " datetime.date(2017, 8, 25),\n",
       " datetime.date(2017, 8, 30),\n",
       " datetime.date(2017, 9, 1),\n",
       " datetime.date(2017, 9, 6),\n",
       " datetime.date(2017, 9, 8),\n",
       " datetime.date(2017, 9, 13),\n",
       " datetime.date(2017, 9, 15),\n",
       " datetime.date(2017, 9, 22),\n",
       " datetime.date(2017, 9, 29),\n",
       " datetime.date(2017, 10, 20),\n",
       " datetime.date(2017, 11, 17),\n",
       " datetime.date(2017, 12, 15),\n",
       " datetime.date(2017, 12, 29),\n",
       " datetime.date(2018, 1, 19),\n",
       " datetime.date(2018, 3, 16),\n",
       " datetime.date(2018, 3, 29),\n",
       " datetime.date(2018, 6, 15),\n",
       " datetime.date(2018, 6, 29),\n",
       " datetime.date(2018, 7, 20),\n",
       " datetime.date(2018, 9, 21),\n",
       " datetime.date(2018, 12, 21),\n",
       " datetime.date(2019, 1, 18),\n",
       " datetime.date(2019, 3, 15),\n",
       " datetime.date(2019, 6, 21),\n",
       " datetime.date(2019, 12, 20),\n",
       " datetime.date(2020, 7, 17)]"
      ]
     },
     "execution_count": 198,
     "metadata": {},
     "output_type": "execute_result"
    }
   ],
   "source": [
    "opt.expiry_dates"
   ]
  },
  {
   "cell_type": "code",
   "execution_count": 254,
   "metadata": {},
   "outputs": [],
   "source": [
    "# choose contracts with specified expiry date\n",
    "expiry_index = 16\n",
    "expiry = opt.expiry_dates[expiry_index]\n",
    "data_call = opt.get_call_data(expiry=expiry)"
   ]
  },
  {
   "cell_type": "code",
   "execution_count": 255,
   "metadata": {},
   "outputs": [
    {
     "data": {
      "text/plain": [
       "85"
      ]
     },
     "execution_count": 255,
     "metadata": {},
     "output_type": "execute_result"
    }
   ],
   "source": [
    "len(data_call) # number of contracts with specified expiry date"
   ]
  },
  {
   "cell_type": "code",
   "execution_count": 256,
   "metadata": {},
   "outputs": [],
   "source": [
    "r = 0.01 # risk free rate\n",
    "s = data_call['Underlying_Price'] # undelying price\n",
    "expiry = data_call.index.get_level_values('Expiry')[0] # get the expiry \n",
    "current_date = datetime.datetime.now() # get the current date\n",
    "time_to_expire = float((expiry - current_date).days)/365 # compute time to expiration\n",
    "premium = (data_call['Ask'] + data_call['Bid'])/2 # option premium\n",
    "k_call = data_call.index.get_level_values('Strike') # get the strike price\n",
    "d = 0.01 # continuous devidend yield"
   ]
  },
  {
   "cell_type": "code",
   "execution_count": 257,
   "metadata": {},
   "outputs": [
    {
     "name": "stderr",
     "output_type": "stream",
     "text": [
      "/Library/Frameworks/Python.framework/Versions/2.7/lib/python2.7/site-packages/ipykernel_launcher.py:4: RuntimeWarning: divide by zero encountered in double_scalars\n",
      "  after removing the cwd from sys.path.\n"
     ]
    }
   ],
   "source": [
    "IV_call = []\n",
    "for i in range(len(data_call)):  \n",
    "    IV_call.append(implied_vol('c', premium.values[i], s.values[i], k_call[i], r, time_to_expire, d))"
   ]
  },
  {
   "cell_type": "code",
   "execution_count": 258,
   "metadata": {},
   "outputs": [
    {
     "data": {
      "text/plain": [
       "<matplotlib.legend.Legend at 0x1170cc690>"
      ]
     },
     "execution_count": 258,
     "metadata": {},
     "output_type": "execute_result"
    },
    {
     "data": {
      "image/png": "[encoded data removed]",
      "text/plain": [
       "<matplotlib.figure.Figure at 0x115f7b290>"
      ]
     },
     "metadata": {},
     "output_type": "display_data"
    }
   ],
   "source": [
    "# compare the implied volatility calculated by BSM and given by Yahoo Finance\n",
    "plt.figure(figsize=(16, 7))\n",
    "a = plt.scatter(k_call,IV_call, c='r', label=\"IV by solving BSM\")\n",
    "b = plt.scatter(k_call,data_call['IV'],c = 'b', label=\"IV from Yahoo Finance\")\n",
    "plt.grid()\n",
    "plt.xlabel('strike')\n",
    "plt.ylabel('Implied Volatility for call options')\n",
    "plt.legend((a,b), (\"IV(call) by solving BSM\", \"IV(call) from Yahoo Finance\"))"
   ]
  },
  {
   "cell_type": "code",
   "execution_count": 259,
   "metadata": {
    "collapsed": true
   },
   "outputs": [],
   "source": [
    "# choose contracts with specified expiry date\n",
    "expiry = opt.expiry_dates[expiry_index]\n",
    "data_put = opt.get_put_data(expiry=expiry)\n",
    "r = 0.013 # risk free rate\n",
    "s = data_put['Underlying_Price'] # undelying price\n",
    "expiry = data_put.index.get_level_values('Expiry')[0] # get the expiry \n",
    "current_date = datetime.datetime.now() # get the current date\n",
    "time_to_expire = float((expiry - current_date).days)/365 # compute time to expiration\n",
    "premium = (data_put['Ask'] + data_put['Bid'])/2 # option premium\n",
    "k_put = data_put.index.get_level_values('Strike') # get the strike price\n",
    "d = 0.01 # continuous devidend yield"
   ]
  },
  {
   "cell_type": "code",
   "execution_count": 260,
   "metadata": {},
   "outputs": [
    {
     "data": {
      "text/plain": [
       "85"
      ]
     },
     "execution_count": 260,
     "metadata": {},
     "output_type": "execute_result"
    }
   ],
   "source": [
    "len(data_put) # number of contracts with specified expiry date"
   ]
  },
  {
   "cell_type": "code",
   "execution_count": 261,
   "metadata": {},
   "outputs": [],
   "source": [
    "IV_put = []\n",
    "for i in range(len(data_put)):  \n",
    "    IV_put.append(implied_vol('p', premium.values[i], s.values[i], k_put[i], r, time_to_expire, d))"
   ]
  },
  {
   "cell_type": "code",
   "execution_count": 262,
   "metadata": {},
   "outputs": [
    {
     "data": {
      "text/plain": [
       "<matplotlib.legend.Legend at 0x117440cd0>"
      ]
     },
     "execution_count": 262,
     "metadata": {},
     "output_type": "execute_result"
    },
    {
     "data": {
      "image/png": "[encoded data removed]",
      "text/plain": [
       "<matplotlib.figure.Figure at 0x11589c910>"
      ]
     },
     "metadata": {},
     "output_type": "display_data"
    }
   ],
   "source": [
    "plt.figure(figsize=(16, 7))\n",
    "c = plt.scatter(k_put,IV_put, c='r', label=\"IV by solving BSM\")\n",
    "d = plt.scatter(k_put,data_put['IV'],c = 'b', label=\"IV from Yahoo Finance\")\n",
    "plt.grid()\n",
    "plt.xlabel('strike')\n",
    "plt.ylabel('Implied Volatility for put options')\n",
    "plt.legend((c,d), (\"IV(put) by solving BSM\", \"IV(put) from Yahoo Finance\"))"
   ]
  },
  {
   "cell_type": "code",
   "execution_count": 263,
   "metadata": {},
   "outputs": [
    {
     "data": {
      "text/plain": [
       "<matplotlib.legend.Legend at 0x117455410>"
      ]
     },
     "execution_count": 263,
     "metadata": {},
     "output_type": "execute_result"
    },
    {
     "data": {
      "image/png": "[encoded data removed]",
      "text/plain": [
       "<matplotlib.figure.Figure at 0x11589cc50>"
      ]
     },
     "metadata": {},
     "output_type": "display_data"
    }
   ],
   "source": [
    "plt.figure(figsize=(16, 7))\n",
    "e = plt.scatter(k_call,IV_call, c ='red', label=\"IV(call options)\")\n",
    "f = plt.scatter(k_put,IV_put, c = 'black', label=\"IV(put options)\")\n",
    "plt.xlabel('strike')\n",
    "plt.ylabel('Implied Volatility')\n",
    "plt.legend((e,f), (\"IV (call options)\", \"IV (put options)\"))"
   ]
  },
  {
   "cell_type": "code",
   "execution_count": null,
   "metadata": {
    "collapsed": true
   },
   "outputs": [],
   "source": []
  },
  {
   "cell_type": "code",
   "execution_count": null,
   "metadata": {
    "collapsed": true
   },
   "outputs": [],
   "source": []
  },
  {
   "cell_type": "code",
   "execution_count": null,
   "metadata": {
    "collapsed": true
   },
   "outputs": [],
   "source": []
  }
 ],
 "metadata": {
  "kernelspec": {
   "display_name": "Python 2",
   "language": "python",
   "name": "python2"
  },
  "language_info": {
   "codemirror_mode": {
    "name": "ipython",
    "version": 2
   },
   "file_extension": ".py",
   "mimetype": "text/x-python",
   "name": "python",
   "nbconvert_exporter": "python",
   "pygments_lexer": "ipython2",
   "version": "2.7.11"
  }
 },
 "nbformat": 4,
 "nbformat_minor": 2
}
